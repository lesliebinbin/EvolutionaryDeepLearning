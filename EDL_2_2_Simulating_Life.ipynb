{
  "nbformat": 4,
  "nbformat_minor": 0,
  "metadata": {
    "colab": {
      "name": "EDL_2_2_Simulating_Life.ipynb",
      "provenance": [],
      "include_colab_link": true
    },
    "kernelspec": {
      "name": "python3",
      "display_name": "Python 3"
    },
    "language_info": {
      "name": "python"
    }
  },
  "cells": [
    {
      "cell_type": "markdown",
      "metadata": {
        "id": "view-in-github",
        "colab_type": "text"
      },
      "source": [
        "<a href=\"https://colab.research.google.com/github/lesliebinbin/EvolutionaryDeepLearning/blob/main/EDL_2_2_Simulating_Life.ipynb\" target=\"_parent\"><img src=\"https://colab.research.google.com/assets/colab-badge.svg\" alt=\"Open In Colab\"/></a>"
      ]
    },
    {
      "cell_type": "code",
      "metadata": {
        "id": "Fhzb2-auwAzl"
      },
      "source": [
        "import random\n",
        "import time\n",
        "import matplotlib.pyplot as plt\n",
        "from IPython.display import clear_output"
      ],
      "execution_count": 1,
      "outputs": []
    },
    {
      "cell_type": "code",
      "metadata": {
        "colab": {
          "base_uri": "https://localhost:8080/"
        },
        "id": "UCWWgjhDSFKY",
        "outputId": "ff4bc40e-ff5d-4986-b64f-4ee607524e1c"
      },
      "source": [
        "def create_cell():\n",
        "  return dict(health = random.randint(1, 100))\n",
        "\n",
        "def birth(offspring):\n",
        "  return [create_cell() for i in range(offspring)]\n",
        "\n",
        "cells = birth(10)\n",
        "print(cells)"
      ],
      "execution_count": 2,
      "outputs": [
        {
          "output_type": "stream",
          "name": "stdout",
          "text": [
            "[{'health': 97}, {'health': 49}, {'health': 59}, {'health': 9}, {'health': 44}, {'health': 21}, {'health': 88}, {'health': 76}, {'health': 53}, {'health': 68}]\n"
          ]
        }
      ]
    },
    {
      "cell_type": "code",
      "metadata": {
        "id": "ViAjsf6PuxFk"
      },
      "source": [
        "RPRD_RATE = 25\n",
        "DEATH_RATE = 25\n",
        "\n",
        "def reproduce(cells):\n",
        "  return [create_cell() for cell in cells if random.randint(1, 100) < RPRD_RATE]\n",
        "\n",
        "def death(cells):\n",
        "  return [cell for cell in cells if random.randint(1, 100) > DEATH_RATE ]\n",
        "\n",
        "def run_generation(cells):\n",
        "  cells.extend(reproduce(cells))\n",
        "  return death(cells)"
      ],
      "execution_count": 3,
      "outputs": []
    },
    {
      "cell_type": "code",
      "metadata": {
        "colab": {
          "base_uri": "https://localhost:8080/",
          "height": 430
        },
        "id": "IL8S79ewzSHT",
        "outputId": "d670119d-382c-40db-9983-6208f4e2624c"
      },
      "source": [
        "#@title Simulate the Cells Population Growth\n",
        "generations = 10 #@param {type:\"slider\", min:1, max:25, step:1}\n",
        "initial_offspring = 10 #@param {type:\"slider\", min:10, max:1000, step:1}\n",
        "reproduction_rate = 50 #@param {type:\"slider\", min:1, max:100, step:1}\n",
        "death_rate = 68 #@param {type:\"slider\", min:1, max:100, step:1}\n",
        "\n",
        "RPRD_RATE = reproduction_rate\n",
        "DEATH_RATE = death_rate\n",
        "cells = birth(initial_offspring)\n",
        "\n",
        "history = []\n",
        "for i in range(generations):\n",
        "  cells = run_generation(cells)\n",
        "  history.append(len(cells))\n",
        "  clear_output()\n",
        "  plt.plot(history)\n",
        "  plt.show()\n",
        "  time.sleep(1)\n",
        ""
      ],
      "execution_count": 5,
      "outputs": [
        {
          "output_type": "display_data",
          "data": {
            "text/plain": [
              "<Figure size 640x480 with 1 Axes>"
            ],
            "image/png": "[encoded data removed]"
          },
          "metadata": {}
        }
      ]
    },
    {
      "cell_type": "code",
      "source": [],
      "metadata": {
        "id": "gILC8wlid4IW"
      },
      "execution_count": null,
      "outputs": []
    }
  ]
}